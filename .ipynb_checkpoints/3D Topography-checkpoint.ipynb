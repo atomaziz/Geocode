{
 "cells": [
  {
   "cell_type": "code",
   "execution_count": 1,
   "metadata": {},
   "outputs": [
    {
     "name": "stdout",
     "output_type": "stream",
     "text": [
      "Requirement already satisfied: plotly==4.8.1 in c:\\users\\ikhwan.aziz\\appdata\\local\\continuum\\anaconda3\\lib\\site-packages (4.8.1)\n",
      "Requirement already satisfied: six in c:\\users\\ikhwan.aziz\\appdata\\local\\continuum\\anaconda3\\lib\\site-packages (from plotly==4.8.1) (1.12.0)\n",
      "Requirement already satisfied: retrying>=1.3.3 in c:\\users\\ikhwan.aziz\\appdata\\local\\continuum\\anaconda3\\lib\\site-packages (from plotly==4.8.1) (1.3.3)\n",
      "Note: you may need to restart the kernel to use updated packages.\n"
     ]
    }
   ],
   "source": [
    "pip install plotly==4.8.1"
   ]
  },
  {
   "cell_type": "code",
   "execution_count": 2,
   "metadata": {},
   "outputs": [],
   "source": [
    "import numpy as np\n",
    "import plotly.offline as go_offline\n",
    "import plotly.graph_objects as go"
   ]
  },
  {
   "cell_type": "code",
   "execution_count": 3,
   "metadata": {},
   "outputs": [],
   "source": [
    "#READING AND PARSING THE DATA\n",
    "file=open('C:/Users/ikhwan.aziz/Documents/Phyton Course/Tutorial/2_visualisation/survey_data.csv','r')\n",
    "lines=file.readlines()\n",
    "n_line=len(lines)\n",
    "x=[]\n",
    "y=[]\n",
    "z=[]\n",
    "for i in range(1,n_line):\n",
    "    split_line=lines[i].split(\",\")\n",
    "    xyz_t=[]\n",
    "    x.append(float(split_line[0].rstrip()))\n",
    "    y.append(float(split_line[1].rstrip()))\n",
    "    z.append(float(split_line[2].rstrip()))"
   ]
  },
  {
   "cell_type": "code",
   "execution_count": 4,
   "metadata": {},
   "outputs": [],
   "source": [
    "#DISTANCE FUNCTION\n",
    "def distance(x1,y1,x2,y2):\n",
    "    d=np.sqrt((x1-x2)**2+(y1-y2)**2)\n",
    "    return d\n",
    "\n",
    "#CREATING IDW FUNCTION\n",
    "def idw_npoint(xz,yz,n_point,p):\n",
    "    r=10 #block radius iteration distance\n",
    "    nf=0\n",
    "    while nf<=n_point: #will stop when np reaching at least n_point\n",
    "        x_block=[]\n",
    "        y_block=[]\n",
    "        z_block=[]\n",
    "        r +=10 # add 10 unit each iteration\n",
    "        xr_min=xz-r\n",
    "        xr_max=xz+r\n",
    "        yr_min=yz-r\n",
    "        yr_max=yz+r\n",
    "        for i in range(len(x)):\n",
    "            # condition to test if a point is within the block\n",
    "            if ((x[i]>=xr_min and x[i]<=xr_max) and (y[i]>=yr_min and y[i]<=yr_max)):\n",
    "                x_block.append(x[i])\n",
    "                y_block.append(y[i])\n",
    "                z_block.append(z[i])\n",
    "        nf=len(x_block) #calculate number of point in the block\n",
    "    \n",
    "    #calculate weight based on distance and p value\n",
    "    w_list=[]\n",
    "    for j in range(len(x_block)):\n",
    "        d=distance(xz,yz,x_block[j],y_block[j])\n",
    "        if d>0:\n",
    "            w=1/(d**p)\n",
    "            w_list.append(w)\n",
    "            z0=0\n",
    "        else:\n",
    "            w_list.append(0) #if meet this condition, it means d<=0, weight is set to 0\n",
    "    \n",
    "    #check if there is 0 in weight list\n",
    "    w_check=0 in w_list\n",
    "    if w_check==True:\n",
    "        idx=w_list.index(0) # find index for weight=0\n",
    "        z_idw=z_block[idx] # set the value to the current sample value\n",
    "    else:\n",
    "        wt=np.transpose(w_list)\n",
    "        z_idw=np.dot(z_block,wt)/sum(w_list) # idw calculation using dot product\n",
    "    return z_idw"
   ]
  },
  {
   "cell_type": "code",
   "execution_count": 5,
   "metadata": {},
   "outputs": [],
   "source": [
    "# POPULATE INTERPOLATION POINTS\n",
    "n=100 #number of interpolation point for x and y axis\n",
    "x_min=min(x)\n",
    "x_max=max(x)\n",
    "y_min=min(y)\n",
    "y_max=max(y)\n",
    "w=x_max-x_min #width\n",
    "h=y_max-y_min #length\n",
    "wn=w/n #x interval\n",
    "hn=h/n #y interval\n",
    "\n",
    "#list to store interpolation point and elevation\n",
    "y_init=y_min\n",
    "x_init=x_min\n",
    "x_idw_list=[]\n",
    "y_idw_list=[]\n",
    "z_head=[]\n",
    "for i in range(n):\n",
    "    xz=x_init+wn*i\n",
    "    yz=y_init+hn*i\n",
    "    y_idw_list.append(yz)\n",
    "    x_idw_list.append(xz)\n",
    "    z_idw_list=[]\n",
    "    for j in range(n):\n",
    "        xz=x_init+wn*j\n",
    "        z_idw=idw_npoint(xz,yz,5,1.5) #min. point=5, p=1.5\n",
    "        z_idw_list.append(z_idw)\n",
    "    z_head.append(z_idw_list)"
   ]
  },
  {
   "cell_type": "code",
   "execution_count": 7,
   "metadata": {},
   "outputs": [
    {
     "data": {
      "text/plain": [
       "'C:/Users/ikhwan.aziz/Documents/Phyton Course/Tutorial/2_visualisation/3d_terrain.html'"
      ]
     },
     "execution_count": 7,
     "metadata": {},
     "output_type": "execute_result"
    }
   ],
   "source": [
    "# CREATING 3D TERRAIN MODEL\n",
    "fig=go.Figure()\n",
    "fig.add_trace(go.Surface(z=z_head,x=x_idw_list,y=y_idw_list))\n",
    "fig.update_layout(scene=dict(aspectratio=dict(x=2, y=2, z=0.5),xaxis = dict(range=[x_min,x_max],),yaxis = dict(range=[y_min,y_max])))\n",
    "go_offline.plot(fig,filename='C:/Users/ikhwan.aziz/Documents/Phyton Course/Tutorial/2_visualisation/3d_terrain.html',validate=True, auto_open=False)"
   ]
  }
 ],
 "metadata": {
  "kernelspec": {
   "display_name": "Python 3",
   "language": "python",
   "name": "python3"
  },
  "language_info": {
   "codemirror_mode": {
    "name": "ipython",
    "version": 3
   },
   "file_extension": ".py",
   "mimetype": "text/x-python",
   "name": "python",
   "nbconvert_exporter": "python",
   "pygments_lexer": "ipython3",
   "version": "3.7.4"
  }
 },
 "nbformat": 4,
 "nbformat_minor": 2
}
